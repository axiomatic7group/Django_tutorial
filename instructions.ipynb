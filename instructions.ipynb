{
 "cells": [
  {
   "cell_type": "markdown",
   "metadata": {},
   "source": [
    "# Welcome to our Django Tutorial\n",
    "\n",
    "## Intro\n",
    "\n",
    "Official Django Documentation and Tutorial :    https://docs.djangoproject.com/en/4.2/intro/tutorial01/\n",
    "\n",
    "This tutorial will be similar to the django tutorial found in the documentation, it will additionally include adding outside databases, different models, advance forms and widgets, django html, css and bootstrap, etc. \n",
    "\n",
    "#### Apendix:\n",
    "\n",
    "* Intro & Django quick install\n",
    "* Create project and app\n",
    "* Database and Modules\n",
    "* Views Structure\n",
    "* Templates and URLs\n",
    "* Forms\n",
    "* Custom Admin\n",
    "\n",
    "Bonus:\n",
    "* Django html\n",
    "* css and boostrap\n",
    "* using git "
   ]
  },
  {
   "cell_type": "markdown",
   "metadata": {},
   "source": [
    "# Intro & Django quick install\n",
    "\n",
    "#### Intro\n",
    "\n",
    "The Django project we will be building for this tutorial is a portfolio website. It will consist of 3 modules, views, contact, and projects.\n",
    "\n",
    "* views - {datetime, page, user}\n",
    "* contact - {datetime, name, email, phone, message, prefered_contact}\n",
    "* projects - (datetime, name, sumary, description, attachement)\n",
    "\n",
    "#### Django quick install\n",
    "\n",
    "* Download Python - https://www.python.org/downloads/\n",
    "    * to verify installation, open command window and type python to see python version installed\n",
    "    * make sure to install pip as well - https://pip.pypa.io/en/latest/installation/\n",
    "* Install Django\n",
    "    * to install django, open the command window (hint: search for \"cmd\" in your apps)\n",
    "    * in the command window type and run: python -m pip install Django"
   ]
  },
  {
   "cell_type": "markdown",
   "metadata": {},
   "source": [
    "# using git\n",
    "\n",
    "If you want to lear more about what git is - https://git-scm.com/book/en/v2/Getting-Started-What-is-Git%3F\n",
    "\n",
    "We will be using Github to manage our repository, if you want to follow along you can create a free account here: https://github.com/"
   ]
  },
  {
   "cell_type": "markdown",
   "metadata": {},
   "source": [
    "# Create Project and App\n",
    "\n",
    "To start a Django project:\n",
    "* Open your command window to the desired folder where you'd like to start your project\n",
    "    * hint: use \"cd\" to get to your path ex. cd Desktop/Myfiles/MyProject\n",
    "\n",
    "#### Create Project\n",
    "* Run the following command: django-admin startproject mysite_name\n",
    "    * hint: replace \"mysite_name\" with your desired name, do not use spaces or special characters \n",
    "    * hint: do not name it after a Django or Python Built-in commands\n",
    "* This should start your project and create the files and folders in your working directory\n",
    "    * mysite_name/ - project folder\n",
    "        * manage.py - project manage.py file, used to manage and run project\n",
    "        * mysite_name/ - project app files\n",
    "            * __init__.py\n",
    "            * settings.py - settings and configuration for your project\n",
    "            * urls.py - url list and \"instructions\" (dispatcher)\n",
    "            * asgi.py\n",
    "            * wsgi.py\n",
    "\n",
    "#### Create App\n",
    "* In your command line, go into your project folder (cd mystie_name)\n",
    "* Run the following command: python manage.py startapp myapp_name\n",
    "* This should start your app and create the files and folders in your project\n",
    "    * mysite_name/ - project folder\n",
    "        * manage.py - project manage.py file, used to manage and run project\n",
    "        * mysite_name/ - project app files\n",
    "            * __init__.py\n",
    "            * settings.py - settings and configuration for your project\n",
    "            * urls.py - url list and \"instructions\" (dispatcher)\n",
    "            * asgi.py\n",
    "            * wsgi.py\n",
    "        * myapp_name/\n",
    "            * __init__.py\n",
    "            * admin.py\n",
    "            * apps.py\n",
    "            * migrations/\n",
    "                * __init__.py\n",
    "            * models.py\n",
    "            * tests.py\n",
    "            * views.py\n",
    "\n",
    "#### Create and view our first view\n",
    "\n",
    "Copy the code below into the respective files.\n",
    "Note: you need to create a urls.py file for the app folder\n",
    "\n",
    "The views file contains instructions on what should de displayed.\n",
    "\n",
    "The project/app/urls contains instructions on what url should show which of the app's views\n",
    "\n",
    "The project/urls contains instrcutions on what url should show what view or what subset of views from an app\n",
    "\n",
    "Once you have copied and pasted the code below in the respective files, open the command window to the project folder and run the following command:\n",
    "python manage.py runserver\n",
    "\n",
    "Go to 127.0.0.8000/myapp_name to see your first view"
   ]
  },
  {
   "cell_type": "code",
   "execution_count": null,
   "metadata": {
    "vscode": {
     "languageId": "plaintext"
    }
   },
   "outputs": [],
   "source": [
    "## myapp_name/views.py\n",
    "\n",
    "from django.http import HttpResponse\n",
    "\n",
    "def index(request):\n",
    "    return HttpResponse(\"Hello, world. You're at the polls index.\")"
   ]
  },
  {
   "cell_type": "code",
   "execution_count": null,
   "metadata": {
    "vscode": {
     "languageId": "plaintext"
    }
   },
   "outputs": [],
   "source": [
    "## mysite_name/urls.py\n",
    "\n",
    "from django.contrib import admin\n",
    "from django.urls import include, path\n",
    "\n",
    "urlpatterns = [\n",
    "    path(\"myapp_name/\", include(\"myapp_name.urls\")), ##add this line\n",
    "    path(\"admin/\", admin.site.urls),\n",
    "]"
   ]
  },
  {
   "cell_type": "code",
   "execution_count": null,
   "metadata": {
    "vscode": {
     "languageId": "plaintext"
    }
   },
   "outputs": [],
   "source": [
    "## myapp_name/urls.py\n",
    "\n",
    "from django.urls import path\n",
    "\n",
    "from . import views\n",
    "\n",
    "urlpatterns = [\n",
    "    path(\"\", views.index, name=\"index\"),\n",
    "]"
   ]
  },
  {
   "cell_type": "markdown",
   "metadata": {},
   "source": [
    "# Databases and Modules\n",
    "\n",
    "## Cloud based db (non local db)\n",
    "\n",
    "If you do not want to use a cloud based db and are fine with a local db you can skip the next steps as Django has built in default db systems (SQLite) which are automated for you when you make your migrations for the first time. \n",
    "\n",
    "If you would like to connect to a cloud db we will be looking into connecting to AWS RDS PostgreSQL database which you can get for free for 12 months using AWS's free tier. \n",
    "\n",
    "* First thing you will need is to create a AWS account. \n",
    "* Once you have an AWS account, you can go to the dashboard and create a PostgreSQL db instance\n",
    "    * If you are using AWS for you db hosting you will need to add a custom VPC with a custom Postgres Inbound rules to allow for the connection to Django\n",
    "* Back in your Django working enviorment, open the comand window and pip install psycopg2\n",
    "    * if this gives you an error try isntalling psycopg2-binary\n",
    "    * pip install psycopg2 or psycopg2-binary\n",
    "* Back in your Django project, open the settings file and change the DATABASE input to the below using the information from your AWS or other cloud PostgreSQL db"
   ]
  },
  {
   "cell_type": "code",
   "execution_count": null,
   "metadata": {
    "vscode": {
     "languageId": "plaintext"
    }
   },
   "outputs": [],
   "source": [
    "DATABASES = {\n",
    "    \"default\": {\n",
    "        \"ENGINE\": \"django.db.backends.postgresql_psycopg2\",\n",
    "        'NAME': 'postgres',\n",
    "        'USER': 'user_name',\n",
    "        'PASSWORD': 'user_password',\n",
    "        'HOST': 'host_endpoint',\n",
    "        'PORT': '5432',\n",
    "    }\n",
    "}"
   ]
  },
  {
   "cell_type": "markdown",
   "metadata": {},
   "source": [
    "## Activating your database\n",
    "\n",
    "Once you have choosen your database settings, you can activate the database to create the tables needed for your project.\n",
    "To do this open the command line for your project's path and type and run the command:\n",
    "\n",
    "* python manage.py migrate\n",
    "    * you can run this command whenever you make changes to your modules so those changes can be applied to your database\n",
    "\n",
    "This will intiate the tables need for the default apps in Django which can be found in the settings.py file under INSTALLED_APPS :\n",
    "\n",
    "* django.contrib.admin – The admin site. You’ll use it shortly.\n",
    "* django.contrib.auth – An authentication system.\n",
    "* django.contrib.contenttypes – A framework for content types.\n",
    "* django.contrib.sessions – A session framework.\n",
    "* django.contrib.messages – A messaging framework.\n",
    "* django.contrib.staticfiles – A framework for managing static files.\n",
    "\n",
    "While you're here, add your app to the list of installed apps and once we start building modules in your app, the tables needed for your modules will be added to the database once you migrate those changes. \n",
    "\n",
    "To add your app add the following text to your settings.py file"
   ]
  },
  {
   "cell_type": "code",
   "execution_count": null,
   "metadata": {
    "vscode": {
     "languageId": "plaintext"
    }
   },
   "outputs": [],
   "source": [
    "INSTALLED_APPS = [\n",
    "    'myapp_name',\n",
    "    'django.contrib.admin',\n",
    "    'django.contrib.auth',\n",
    "    'django.contrib.contenttypes',\n",
    "    'django.contrib.sessions',\n",
    "    'django.contrib.messages',\n",
    "    'django.contrib.staticfiles',\n",
    "]"
   ]
  },
  {
   "cell_type": "markdown",
   "metadata": {},
   "source": [
    "## Creating Modules\n",
    "\n",
    "Once your database is set up and you app is recognizedm you can begin creating modules or tables in the my_app/modules.py. The modules you create here will be used to create respective tables in your database to store these modules' entries. \n",
    "\n",
    "* Later we will review the admin and API/shell you can use to interact and manage the data inside the database tables\n",
    "\n",
    "You can copy the code below into your modules file to create the following modules for your app: \n",
    "\n",
    "* portfolios:\n",
    "    * date_created - date portfolio was created \n",
    "    * port_name - portfolio name\n",
    "    * port_description - portfolio description\n",
    "* projects:\n",
    "    * date_created - date portfolio was created \n",
    "    * project_name - project name\n",
    "    * project_description - project description\n",
    "    * project_link - website link *optional*\n",
    "    * portfolio - project portfolio"
   ]
  },
  {
   "cell_type": "code",
   "execution_count": null,
   "metadata": {
    "vscode": {
     "languageId": "plaintext"
    }
   },
   "outputs": [],
   "source": [
    "from django.db import models\n",
    "from django.utils import timezone\n",
    "\n",
    "\n",
    "class Portfolio(models.Model):\n",
    "    date_created = models.DateTimeField('date created', default=timezone.now)\n",
    "    port_name = models.CharField(max_length=100)\n",
    "    port_description = models.CharField(max_length=500)\n",
    "\n",
    "\n",
    "class Projects(models.Model):\n",
    "    date_created = models.DateTimeField('date created', default=timezone.now)\n",
    "    project_name = models.CharField(max_length=100)\n",
    "    project_description = models.CharField(max_length=500)\n",
    "    project_link = models.CharField(max_length=250, blank=True)\n",
    "    portfolio = models.ForeignKey(Portfolio, on_delete=models.CASCADE)"
   ]
  }
 ],
 "metadata": {
  "kernelspec": {
   "display_name": "Python 3",
   "language": "python",
   "name": "python3"
  },
  "language_info": {
   "name": "python",
   "version": "3.10.12"
  }
 },
 "nbformat": 4,
 "nbformat_minor": 2
}
