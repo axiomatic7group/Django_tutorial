{
 "cells": [
  {
   "cell_type": "markdown",
   "metadata": {},
   "source": [
    "# Welcome to our Django Tutorial\n",
    "\n",
    "## Intro\n",
    "\n",
    "Official Django Documentation and Tutorial :    https://docs.djangoproject.com/en/4.2/intro/tutorial01/\n",
    "\n",
    "This tutorial will be similar to the django tutorial found in the documentation, it will additionally include adding outside databases, different models, advance forms and widgets, django html, css and bootstrap, etc. \n",
    "\n",
    "#### Apendix:\n",
    "\n",
    "* Intro & Django quick install\n",
    "* Create project and app\n",
    "* Database and Modules\n",
    "* Views Structure\n",
    "* Templates and URLs\n",
    "* Forms\n",
    "* Custom Admin\n",
    "\n",
    "Bonus:\n",
    "* Django html\n",
    "* css and boostrap\n",
    "* using git "
   ]
  },
  {
   "cell_type": "markdown",
   "metadata": {},
   "source": [
    "# Intro & Django quick install\n",
    "\n",
    "#### Intro\n",
    "\n",
    "The Django project we will be building for this tutorial is a portfolio website. It will consist of 3 modules, views, contact, and projects.\n",
    "\n",
    "* views - {datetime, page, user}\n",
    "* contact - {datetime, name, email, phone, message, prefered_contact}\n",
    "* projects - (datetime, name, sumary, description, attachement)\n",
    "\n",
    "#### Django quick install\n",
    "\n",
    "* Download Python - https://www.python.org/downloads/\n",
    "    * to verify installation, open command window and type python to see python version installed\n",
    "    * make sure to install pip as well - https://pip.pypa.io/en/latest/installation/\n",
    "* Install Django\n",
    "    * to install django, open the command window (hint: search for \"cmd\" in your apps)\n",
    "    * in the command window type and run: python -m pip install Django"
   ]
  },
  {
   "cell_type": "markdown",
   "metadata": {},
   "source": [
    "# using git\n",
    "\n",
    "If you want to lear more about what git is - https://git-scm.com/book/en/v2/Getting-Started-What-is-Git%3F\n",
    "\n",
    "We will be using Github to manage our repository, if you want to follow along you can create a free account here: https://github.com/"
   ]
  },
  {
   "cell_type": "markdown",
   "metadata": {},
   "source": [
    "# Create Project\n",
    "\n",
    "To start a Django project:\n",
    "* Open your command window to the desired folder where you'd like to start your project\n",
    "    * hint: use \"cd\" to get to your path ex. cd Desktop/Myfiles/MyProject\n",
    "\n",
    "#### Create Project\n",
    "* Run the following command: django-admin startproject mysite_name\n",
    "    * hint: replace \"mysite_name\" with your desired name, do not use spaces or special characters \n",
    "    * hint: do not name it after a Django or Python Built-in commands\n",
    "* This should start your project and create the files and folders in your working directory\n",
    "    * mysite_name/ - project folder\n",
    "        * manage.py - project manage.py file, used to manage and run project\n",
    "        * mysite_name/ - project app files\n",
    "            * __init__.py\n",
    "            * settings.py - settings and configuration for your project\n",
    "            * urls.py - url list and \"instructions\" (dispatcher)\n",
    "            * asgi.py\n",
    "            * wsgi.py\n",
    "\n",
    "#### Create App\n",
    "* In your command line, go into your project folder (cd mystie_name)\n",
    "* Run the following command: python manage.py startapp myapp_name\n",
    "* This should start your app and create the files and folders in your project\n",
    "    * mysite_name/ - project folder\n",
    "        * manage.py - project manage.py file, used to manage and run project\n",
    "        * mysite_name/ - project app files\n",
    "            * __init__.py\n",
    "            * settings.py - settings and configuration for your project\n",
    "            * urls.py - url list and \"instructions\" (dispatcher)\n",
    "            * asgi.py\n",
    "            * wsgi.py\n",
    "        * myapp_name/\n",
    "            * __init__.py\n",
    "            * admin.py\n",
    "            * apps.py\n",
    "            * migrations/\n",
    "                * __init__.py\n",
    "            * models.py\n",
    "            * tests.py\n",
    "            * views.py\n",
    "\n",
    "#### Create and view our first view\n",
    "\n",
    "Copy the code below into the respective files.\n",
    "Note: you need to create a urls.py file for the app folder\n",
    "\n",
    "The views file contains instructions on what should de displayed.\n",
    "\n",
    "The project/app/urls contains instructions on what url should show which of the app's views\n",
    "\n",
    "The project/urls contains instrcutions on what url should show what view or what subset of views from an app\n",
    "\n",
    "Once you have copied and pasted the code below in the respective files, open the command window to the project folder and run the following command:\n",
    "python manage.py runserver\n",
    "\n",
    "Go to 127.0.0.8000/myapp_name to see your first view"
   ]
  },
  {
   "cell_type": "code",
   "execution_count": null,
   "metadata": {
    "vscode": {
     "languageId": "plaintext"
    }
   },
   "outputs": [],
   "source": [
    "## myapp_name/views.py\n",
    "\n",
    "from django.http import HttpResponse\n",
    "\n",
    "def index(request):\n",
    "    return HttpResponse(\"Hello, world. You're at the polls index.\")"
   ]
  },
  {
   "cell_type": "code",
   "execution_count": null,
   "metadata": {
    "vscode": {
     "languageId": "plaintext"
    }
   },
   "outputs": [],
   "source": [
    "## mysite_name/urls.py\n",
    "\n",
    "from django.contrib import admin\n",
    "from django.urls import include, path\n",
    "\n",
    "urlpatterns = [\n",
    "    path(\"myapp_name/\", include(\"polls.urls\")), ##add this line\n",
    "    path(\"admin/\", admin.site.urls),\n",
    "]"
   ]
  },
  {
   "cell_type": "code",
   "execution_count": null,
   "metadata": {
    "vscode": {
     "languageId": "plaintext"
    }
   },
   "outputs": [],
   "source": [
    "## myapp_name/urls.py\n",
    "\n",
    "from django.urls import path\n",
    "\n",
    "from . import views\n",
    "\n",
    "urlpatterns = [\n",
    "    path(\"\", views.index, name=\"index\"),\n",
    "]"
   ]
  }
 ],
 "metadata": {
  "kernelspec": {
   "display_name": "Python 3",
   "language": "python",
   "name": "python3"
  },
  "language_info": {
   "name": "python",
   "version": "3.10.12"
  }
 },
 "nbformat": 4,
 "nbformat_minor": 2
}
