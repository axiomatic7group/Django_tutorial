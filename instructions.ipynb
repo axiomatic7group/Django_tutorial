{
 "cells": [
  {
   "cell_type": "markdown",
   "metadata": {},
   "source": [
    "# Welcome to our Django Tutorial\n",
    "\n",
    "## Intro\n",
    "\n",
    "Official Django Documentation and Tutorial :    https://docs.djangoproject.com/en/4.2/intro/tutorial01/\n",
    "\n",
    "This tutorial will be similar to the django tutorial found in the documentation, it will additionally include adding outside databases, different models, advance forms and widgets, django html, css and bootstrap, etc. \n",
    "\n",
    "#### Apendix:\n",
    "\n",
    "* Intro & Django quick install\n",
    "* Create project and app\n",
    "* Database and Modules\n",
    "* Views Structure\n",
    "* Templates and URLs\n",
    "* Forms\n",
    "* Custom Admin\n",
    "\n",
    "Bonus:\n",
    "* Django html\n",
    "* css and boostrap\n",
    "* using git "
   ]
  },
  {
   "cell_type": "markdown",
   "metadata": {},
   "source": [
    "# Intro & Django quick install\n",
    "\n",
    "#### Intro\n",
    "\n",
    "The Django project we will be building for this tutorial is a portfolio website. It will consist of 3 modules, views, contact, and projects.\n",
    "\n",
    "* views - {datetime, page, user}\n",
    "* contact - {datetime, name, email, phone, message, prefered_contact}\n",
    "* projects - (datetime, name, sumary, description, attachement)\n",
    "\n",
    "#### Django quick install\n",
    "\n",
    "* Download Python - https://www.python.org/downloads/\n",
    "    * to verify installation, open command window and type python to see python version installed\n",
    "    * make sure to install pip as well - https://pip.pypa.io/en/latest/installation/\n",
    "* Install Django\n",
    "    * to install django, open the command window (hint: search for \"cmd\" in your apps)\n",
    "    * in the command window type and run: python -m pip install Django"
   ]
  },
  {
   "cell_type": "markdown",
   "metadata": {},
   "source": [
    "# using git\n",
    "\n",
    "If you want to lear more about what git is - https://git-scm.com/book/en/v2/Getting-Started-What-is-Git%3F\n",
    "\n",
    "We will be using Github to manage our repository, if you want to follow along you can create a free account here: https://github.com/"
   ]
  },
  {
   "cell_type": "code",
   "execution_count": null,
   "metadata": {
    "vscode": {
     "languageId": "plaintext"
    }
   },
   "outputs": [],
   "source": [
    "pip install django"
   ]
  }
 ],
 "metadata": {
  "kernelspec": {
   "display_name": "Python 3",
   "language": "python",
   "name": "python3"
  },
  "language_info": {
   "name": "python",
   "version": "3.10.12"
  }
 },
 "nbformat": 4,
 "nbformat_minor": 2
}
